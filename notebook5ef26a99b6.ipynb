{
 "cells": [
  {
   "cell_type": "code",
   "execution_count": 1,
   "id": "e6fed524",
   "metadata": {
    "_cell_guid": "b1076dfc-b9ad-4769-8c92-a6c4dae69d19",
    "_uuid": "8f2839f25d086af736a60e9eeb907d3b93b6e0e5",
    "execution": {
     "iopub.execute_input": "2022-06-25T12:22:04.009140Z",
     "iopub.status.busy": "2022-06-25T12:22:04.008690Z",
     "iopub.status.idle": "2022-06-25T12:23:05.088720Z",
     "shell.execute_reply": "2022-06-25T12:23:05.087495Z"
    },
    "papermill": {
     "duration": 61.087539,
     "end_time": "2022-06-25T12:23:05.091480",
     "exception": false,
     "start_time": "2022-06-25T12:22:04.003941",
     "status": "completed"
    },
    "tags": []
   },
   "outputs": [
    {
     "name": "stdout",
     "output_type": "stream",
     "text": [
      "Collecting package metadata (current_repodata.json): - \b\b\\ \b\b| \b\b/ \b\b- \b\b\\ \b\b| \b\b/ \b\b- \b\b\\ \b\b| \b\b/ \b\b- \b\b\\ \b\b| \b\b/ \b\b- \b\b\\ \b\b| \b\b/ \b\b- \b\b\\ \b\b| \b\b/ \b\b- \b\b\\ \b\b| \b\b/ \b\b- \b\b\\ \b\b| \b\b/ \b\b- \b\b\\ \b\b| \b\b/ \b\b- \b\b\\ \b\b| \b\b/ \b\b- \b\b\\ \b\b| \b\b/ \b\b- \b\b\\ \b\b| \b\b/ \b\b- \b\b\\ \b\b| \b\b/ \b\b- \b\b\\ \b\b| \b\b/ \b\b- \b\b\\ \b\b| \b\b/ \b\b- \b\b\\ \b\b| \b\b/ \b\b- \b\b\\ \b\b| \b\b/ \b\b- \b\b\\ \b\b| \b\b/ \b\b- \b\b\\ \b\b| \b\b/ \b\b- \b\b\\ \b\b| \b\b/ \b\b- \b\b\\ \b\b| \b\b/ \b\b- \b\b\\ \b\b| \b\b/ \b\b- \b\b\\ \b\b| \b\b/ \b\b- \b\b\\ \b\b| \b\b/ \b\b- \b\b\\ \b\b| \b\b/ \b\b- \b\b\\ \b\b| \b\b/ \b\b- \b\b\\ \b\b| \b\b/ \b\b- \b\b\\ \b\b| \b\b/ \b\b- \b\b\\ \b\b| \b\b/ \b\b- \b\b\\ \b\b| \b\b/ \b\b- \b\b\\ \b\b| \b\b/ \b\b- \b\b\\ \b\b| \b\b/ \b\b- \b\b\\ \b\b| \b\b/ \b\b- \b\b\\ \b\b| \b\b/ \b\b- \b\b\\ \b\b| \b\b/ \b\b- \b\b\\ \b\b| \b\b/ \b\b- \b\b\\ \b\b| \b\b/ \b\b- \b\b\\ \b\b| \b\b/ \b\b- \b\b\\ \b\b| \b\b/ \b\b- \b\b\\ \b\b| \b\b/ \b\b- \b\b\\ \b\b| \b\b/ \b\b- \b\b\\ \b\b| \b\b/ \b\b- \b\b\\ \b\b| \b\b/ \b\b- \b\b\\ \b\b| \b\b/ \b\b- \b\b\\ \b\b| \b\b/ \b\b- \b\b\\ \b\b| \b\b/ \b\b- \b\b\\ \b\b| \b\b/ \b\b- \b\b\\ \b\b| \b\b/ \b\b- \b\bdone\r\n",
      "Solving environment: | \b\b/ \b\b- \b\b\\ \b\b| \b\b/ \b\b- \b\b\\ \b\b| \b\b/ \b\b- \b\b\\ \b\b| \b\b/ \b\b- \b\b\\ \b\b| \b\b/ \b\b- \b\b\\ \b\b| \b\b/ \b\b- \b\b\\ \b\b| \b\b/ \b\b- \b\b\\ \b\b| \b\b/ \b\b- \b\b\\ \b\b| \b\b/ \b\b- \b\b\\ \b\b| \b\b/ \b\b- \b\b\\ \b\b| \b\b/ \b\b- \b\b\\ \b\b| \b\b/ \b\b- \b\b\\ \b\b| \b\b/ \b\b- \b\b\\ \b\b| \b\b/ \b\b- \b\b\\ \b\b| \b\b/ \b\b- \b\b\\ \b\b| \b\b/ \b\b- \b\b\\ \b\b| \b\bdone\r\n",
      "\r\n",
      "## Package Plan ##\r\n",
      "\r\n",
      "  environment location: /opt/conda\r\n",
      "\r\n",
      "  added / updated specs:\r\n",
      "    - gdown\r\n",
      "\r\n",
      "\r\n",
      "The following packages will be downloaded:\r\n",
      "\r\n",
      "    package                    |            build\r\n",
      "    ---------------------------|-----------------\r\n",
      "    filelock-3.7.1             |     pyhd8ed1ab_0          12 KB  conda-forge\r\n",
      "    gdown-4.4.0                |     pyhd8ed1ab_0          16 KB  conda-forge\r\n",
      "    openssl-1.1.1p             |       h166bdaf_0         2.1 MB  conda-forge\r\n",
      "    ------------------------------------------------------------\r\n",
      "                                           Total:         2.1 MB\r\n",
      "\r\n",
      "The following NEW packages will be INSTALLED:\r\n",
      "\r\n",
      "  filelock           conda-forge/noarch::filelock-3.7.1-pyhd8ed1ab_0\r\n",
      "  gdown              conda-forge/noarch::gdown-4.4.0-pyhd8ed1ab_0\r\n",
      "\r\n",
      "The following packages will be UPDATED:\r\n",
      "\r\n",
      "  openssl                                 1.1.1o-h166bdaf_0 --> 1.1.1p-h166bdaf_0\r\n",
      "\r\n",
      "\r\n",
      "\r\n",
      "Downloading and Extracting Packages\r\n",
      "openssl-1.1.1p       | 2.1 MB    | ##################################### | 100% \r\n",
      "filelock-3.7.1       | 12 KB     | ##################################### | 100% \r\n",
      "gdown-4.4.0          | 16 KB     | ##################################### | 100% \r\n",
      "Preparing transaction: - \b\bdone\r\n",
      "Verifying transaction: | \b\b/ \b\bdone\r\n",
      "Executing transaction: \\ \b\b| \b\b/ \b\b- \b\b\\ \b\b| \b\b/ \b\b- \b\b\\ \b\b| \b\b/ \b\b- \b\b\\ \b\b| \b\b/ \b\b- \b\b\\ \b\b| \b\b/ \b\b- \b\b\\ \b\b| \b\bdone\r\n"
     ]
    }
   ],
   "source": [
    "!conda install -y gdown \n",
    "import gdown \n"
   ]
  },
  {
   "cell_type": "code",
   "execution_count": 2,
   "id": "d29a2036",
   "metadata": {
    "execution": {
     "iopub.execute_input": "2022-06-25T12:23:05.124518Z",
     "iopub.status.busy": "2022-06-25T12:23:05.124160Z",
     "iopub.status.idle": "2022-06-25T12:23:05.129278Z",
     "shell.execute_reply": "2022-06-25T12:23:05.128085Z"
    },
    "papermill": {
     "duration": 0.023661,
     "end_time": "2022-06-25T12:23:05.131521",
     "exception": false,
     "start_time": "2022-06-25T12:23:05.107860",
     "status": "completed"
    },
    "tags": []
   },
   "outputs": [],
   "source": [
    "id_set1=\"1f0L0McKkPXYW5DGukCr_1vLXe6JQDaCF\"\n",
    "id_set2=\"1aqCY7BhaE9fiIUL3m4Te6OrmipgQf7xo\"\n",
    "id_set3=\"1WDdh1jNDbLfoDy_Co_3piqgklzK6pgZp\"\n",
    "id_set4=\"10al9Z1JB-_aWdMspKrbR7CvF9J0mQ0JC\"\n",
    "id_set5=\"1dxuEav_JJ92FtRGcar_6UEUOFQXwwTJJ\"\n",
    "id_set6=\"1Wvi4FjAsNU0iO1teREhGP_bphS9TO6Yp\"\n",
    "id_set8=\"1NQZ5YB4BPYnuJOIwL2ec4IrM1Cb7_mTj\""
   ]
  },
  {
   "cell_type": "code",
   "execution_count": 3,
   "id": "203f838f",
   "metadata": {
    "execution": {
     "iopub.execute_input": "2022-06-25T12:23:05.164269Z",
     "iopub.status.busy": "2022-06-25T12:23:05.163585Z",
     "iopub.status.idle": "2022-06-25T12:24:02.577227Z",
     "shell.execute_reply": "2022-06-25T12:24:02.576044Z"
    },
    "papermill": {
     "duration": 57.434188,
     "end_time": "2022-06-25T12:24:02.580764",
     "exception": false,
     "start_time": "2022-06-25T12:23:05.146576",
     "status": "completed"
    },
    "tags": []
   },
   "outputs": [
    {
     "name": "stdout",
     "output_type": "stream",
     "text": [
      "/opt/conda/lib/python3.7/site-packages/gdown/cli.py:131: FutureWarning: Option `--id` was deprecated in version 4.3.1 and will be removed in 5.0. You don't need to pass it anymore to use a file ID.\r\n",
      "  category=FutureWarning,\r\n",
      "Downloading...\r\n",
      "From: https://drive.google.com/uc?id=1f0L0McKkPXYW5DGukCr_1vLXe6JQDaCF\r\n",
      "To: /kaggle/working/set1.zip\r\n",
      "100%|███████████████████████████████████████| 1.37G/1.37G [00:06<00:00, 218MB/s]\r\n",
      "/opt/conda/lib/python3.7/site-packages/gdown/cli.py:131: FutureWarning: Option `--id` was deprecated in version 4.3.1 and will be removed in 5.0. You don't need to pass it anymore to use a file ID.\r\n",
      "  category=FutureWarning,\r\n",
      "Downloading...\r\n",
      "From: https://drive.google.com/uc?id=1aqCY7BhaE9fiIUL3m4Te6OrmipgQf7xo\r\n",
      "To: /kaggle/working/set2.zip\r\n",
      "100%|███████████████████████████████████████| 1.37G/1.37G [00:07<00:00, 183MB/s]\r\n",
      "/opt/conda/lib/python3.7/site-packages/gdown/cli.py:131: FutureWarning: Option `--id` was deprecated in version 4.3.1 and will be removed in 5.0. You don't need to pass it anymore to use a file ID.\r\n",
      "  category=FutureWarning,\r\n",
      "Downloading...\r\n",
      "From: https://drive.google.com/uc?id=1WDdh1jNDbLfoDy_Co_3piqgklzK6pgZp\r\n",
      "To: /kaggle/working/set3.zip\r\n",
      "100%|███████████████████████████████████████| 1.37G/1.37G [00:05<00:00, 254MB/s]\r\n",
      "/opt/conda/lib/python3.7/site-packages/gdown/cli.py:131: FutureWarning: Option `--id` was deprecated in version 4.3.1 and will be removed in 5.0. You don't need to pass it anymore to use a file ID.\r\n",
      "  category=FutureWarning,\r\n",
      "Downloading...\r\n",
      "From: https://drive.google.com/uc?id=10al9Z1JB-_aWdMspKrbR7CvF9J0mQ0JC\r\n",
      "To: /kaggle/working/set4.zip\r\n",
      "100%|███████████████████████████████████████| 1.37G/1.37G [00:06<00:00, 221MB/s]\r\n",
      "/opt/conda/lib/python3.7/site-packages/gdown/cli.py:131: FutureWarning: Option `--id` was deprecated in version 4.3.1 and will be removed in 5.0. You don't need to pass it anymore to use a file ID.\r\n",
      "  category=FutureWarning,\r\n",
      "Downloading...\r\n",
      "From: https://drive.google.com/uc?id=1dxuEav_JJ92FtRGcar_6UEUOFQXwwTJJ\r\n",
      "To: /kaggle/working/set5.zip\r\n",
      "100%|███████████████████████████████████████| 1.37G/1.37G [00:06<00:00, 209MB/s]\r\n",
      "/opt/conda/lib/python3.7/site-packages/gdown/cli.py:131: FutureWarning: Option `--id` was deprecated in version 4.3.1 and will be removed in 5.0. You don't need to pass it anymore to use a file ID.\r\n",
      "  category=FutureWarning,\r\n",
      "Downloading...\r\n",
      "From: https://drive.google.com/uc?id=1Wvi4FjAsNU0iO1teREhGP_bphS9TO6Yp\r\n",
      "To: /kaggle/working/set6.zip\r\n",
      "100%|███████████████████████████████████████| 1.37G/1.37G [00:06<00:00, 223MB/s]\r\n",
      "/opt/conda/lib/python3.7/site-packages/gdown/cli.py:131: FutureWarning: Option `--id` was deprecated in version 4.3.1 and will be removed in 5.0. You don't need to pass it anymore to use a file ID.\r\n",
      "  category=FutureWarning,\r\n",
      "Downloading...\r\n",
      "From: https://drive.google.com/uc?id=1NQZ5YB4BPYnuJOIwL2ec4IrM1Cb7_mTj\r\n",
      "To: /kaggle/working/set8.zip\r\n",
      "100%|█████████████████████████████████████████| 233M/233M [00:00<00:00, 269MB/s]\r\n"
     ]
    }
   ],
   "source": [
    "sets=[id_set1,id_set2,id_set3,id_set4,id_set5,id_set6,id_set8]\n",
    "for id in sets:\n",
    "    !gdown --id {id}"
   ]
  },
  {
   "cell_type": "code",
   "execution_count": 4,
   "id": "5f3a0927",
   "metadata": {
    "execution": {
     "iopub.execute_input": "2022-06-25T12:24:02.677578Z",
     "iopub.status.busy": "2022-06-25T12:24:02.677074Z",
     "iopub.status.idle": "2022-06-25T12:24:02.688676Z",
     "shell.execute_reply": "2022-06-25T12:24:02.687190Z"
    },
    "papermill": {
     "duration": 0.068203,
     "end_time": "2022-06-25T12:24:02.692766",
     "exception": false,
     "start_time": "2022-06-25T12:24:02.624563",
     "status": "completed"
    },
    "tags": []
   },
   "outputs": [
    {
     "name": "stdout",
     "output_type": "stream",
     "text": [
      "RAM: 17.579079 GB\n",
      "CORES: 4\n"
     ]
    }
   ],
   "source": [
    "\n",
    "import os\n",
    "import multiprocessing\n",
    "\n",
    "mem_bytes = os.sysconf('SC_PAGE_SIZE') * os.sysconf('SC_PHYS_PAGES')  # e.g. 4015976448\n",
    "mem_gib = mem_bytes/(1024.**3)  # e.g. 3.74\n",
    "print(\"RAM: %f GB\" % mem_gib)\n",
    "print(\"CORES: %d\" % multiprocessing.cpu_count())"
   ]
  },
  {
   "cell_type": "code",
   "execution_count": 5,
   "id": "bb31d516",
   "metadata": {
    "execution": {
     "iopub.execute_input": "2022-06-25T12:24:02.800159Z",
     "iopub.status.busy": "2022-06-25T12:24:02.799751Z",
     "iopub.status.idle": "2022-06-25T12:24:03.665985Z",
     "shell.execute_reply": "2022-06-25T12:24:03.664943Z"
    },
    "papermill": {
     "duration": 0.933091,
     "end_time": "2022-06-25T12:24:03.668488",
     "exception": false,
     "start_time": "2022-06-25T12:24:02.735397",
     "status": "completed"
    },
    "tags": []
   },
   "outputs": [
    {
     "name": "stdout",
     "output_type": "stream",
     "text": [
      "__notebook__.ipynb  set2.zip  set4.zip\tset6.zip\r\n",
      "set1.zip\t    set3.zip  set5.zip\tset8.zip\r\n"
     ]
    }
   ],
   "source": [
    "!ls"
   ]
  },
  {
   "cell_type": "code",
   "execution_count": null,
   "id": "566b4221",
   "metadata": {
    "papermill": {
     "duration": 0.034745,
     "end_time": "2022-06-25T12:24:03.736279",
     "exception": false,
     "start_time": "2022-06-25T12:24:03.701534",
     "status": "completed"
    },
    "tags": []
   },
   "outputs": [],
   "source": []
  }
 ],
 "metadata": {
  "kernelspec": {
   "display_name": "Python 3",
   "language": "python",
   "name": "python3"
  },
  "language_info": {
   "codemirror_mode": {
    "name": "ipython",
    "version": 3
   },
   "file_extension": ".py",
   "mimetype": "text/x-python",
   "name": "python",
   "nbconvert_exporter": "python",
   "pygments_lexer": "ipython3",
   "version": "3.7.12"
  },
  "papermill": {
   "default_parameters": {},
   "duration": 129.697377,
   "end_time": "2022-06-25T12:24:04.590979",
   "environment_variables": {},
   "exception": null,
   "input_path": "__notebook__.ipynb",
   "output_path": "__notebook__.ipynb",
   "parameters": {},
   "start_time": "2022-06-25T12:21:54.893602",
   "version": "2.3.4"
  }
 },
 "nbformat": 4,
 "nbformat_minor": 5
}

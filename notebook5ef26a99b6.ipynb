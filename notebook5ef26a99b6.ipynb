{
 "cells": [
  {
   "cell_type": "code",
   "execution_count": 1,
   "id": "1273cab2",
   "metadata": {
    "_cell_guid": "b1076dfc-b9ad-4769-8c92-a6c4dae69d19",
    "_uuid": "8f2839f25d086af736a60e9eeb907d3b93b6e0e5",
    "execution": {
     "iopub.execute_input": "2022-06-25T13:01:48.512590Z",
     "iopub.status.busy": "2022-06-25T13:01:48.512097Z",
     "iopub.status.idle": "2022-06-25T13:03:07.405059Z",
     "shell.execute_reply": "2022-06-25T13:03:07.403877Z"
    },
    "papermill": {
     "duration": 78.905094,
     "end_time": "2022-06-25T13:03:07.408503",
     "exception": false,
     "start_time": "2022-06-25T13:01:48.503409",
     "status": "completed"
    },
    "tags": []
   },
   "outputs": [
    {
     "name": "stdout",
     "output_type": "stream",
     "text": [
      "Collecting package metadata (current_repodata.json): - \b\b\\ \b\b| \b\b/ \b\b- \b\b\\ \b\b| \b\b/ \b\b- \b\b\\ \b\b| \b\b/ \b\b- \b\b\\ \b\b| \b\b/ \b\b- \b\b\\ \b\b| \b\b/ \b\b- \b\b\\ \b\b| \b\b/ \b\b- \b\b\\ \b\b| \b\b/ \b\b- \b\b\\ \b\b| \b\b/ \b\b- \b\b\\ \b\b| \b\b/ \b\b- \b\b\\ \b\b| \b\b/ \b\b- \b\b\\ \b\b| \b\b/ \b\b- \b\b\\ \b\b| \b\b/ \b\b- \b\b\\ \b\b| \b\b/ \b\b- \b\b\\ \b\b| \b\b/ \b\b- \b\b\\ \b\b| \b\b/ \b\b- \b\b\\ \b\b| \b\b/ \b\b- \b\b\\ \b\b| \b\b/ \b\b- \b\b\\ \b\b| \b\b/ \b\b- \b\b\\ \b\b| \b\b/ \b\b- \b\b\\ \b\b| \b\b/ \b\b- \b\b\\ \b\b| \b\b/ \b\b- \b\b\\ \b\b| \b\b/ \b\b- \b\b\\ \b\b| \b\b/ \b\b- \b\b\\ \b\b| \b\b/ \b\b- \b\b\\ \b\b| \b\b/ \b\b- \b\b\\ \b\b| \b\b/ \b\b- \b\b\\ \b\b| \b\b/ \b\b- \b\b\\ \b\b| \b\b/ \b\b- \b\b\\ \b\b| \b\b/ \b\b- \b\b\\ \b\b| \b\b/ \b\b- \b\b\\ \b\b| \b\b/ \b\b- \b\b\\ \b\b| \b\b/ \b\b- \b\b\\ \b\b| \b\b/ \b\b- \b\b\\ \b\b| \b\b/ \b\b- \b\b\\ \b\b| \b\b/ \b\b- \b\b\\ \b\b| \b\b/ \b\b- \b\b\\ \b\b| \b\b/ \b\b- \b\b\\ \b\b| \b\b/ \b\b- \b\b\\ \b\b| \b\b/ \b\b- \b\b\\ \b\b| \b\b/ \b\b- \b\b\\ \b\b| \b\b/ \b\b- \b\b\\ \b\b| \b\b/ \b\b- \b\b\\ \b\b| \b\b/ \b\b- \b\b\\ \b\b| \b\b/ \b\b- \b\b\\ \b\b| \b\b/ \b\b- \b\b\\ \b\b| \b\b/ \b\b- \b\b\\ \b\b| \b\b/ \b\b- \b\b\\ \b\b| \b\b/ \b\b- \b\b\\ \b\b| \b\b/ \b\b- \b\b\\ \b\b| \b\b/ \b\b- \b\b\\ \b\b| \b\b/ \b\b- \b\b\\ \b\b| \b\b/ \b\b- \b\b\\ \b\b| \b\b/ \b\b- \b\b\\ \b\b| \b\b/ \b\b- \b\b\\ \b\b| \b\b/ \b\b- \b\b\\ \b\b| \b\b/ \b\b- \b\b\\ \b\b| \b\b/ \b\b- \b\b\\ \b\b| \b\b/ \b\b- \b\b\\ \b\b| \b\b/ \b\b- \b\b\\ \b\b| \b\b/ \b\b- \b\b\\ \b\b| \b\b/ \b\b- \b\b\\ \b\b| \b\b/ \b\b- \b\b\\ \b\b| \b\b/ \b\b- \b\b\\ \b\b| \b\b/ \b\b- \b\b\\ \b\b| \b\b/ \b\b- \b\b\\ \b\b| \b\b/ \b\b- \b\b\\ \b\bdone\r\n",
      "Solving environment: / \b\b- \b\b\\ \b\b| \b\b/ \b\b- \b\b\\ \b\b| \b\b/ \b\b- \b\b\\ \b\b| \b\b/ \b\b- \b\b\\ \b\b| \b\b/ \b\b- \b\b\\ \b\b| \b\b/ \b\b- \b\b\\ \b\b| \b\b/ \b\b- \b\b\\ \b\b| \b\b/ \b\b- \b\b\\ \b\b| \b\b/ \b\b- \b\b\\ \b\b| \b\b/ \b\b- \b\b\\ \b\b| \b\b/ \b\b- \b\b\\ \b\b| \b\b/ \b\b- \b\b\\ \b\b| \b\b/ \b\b- \b\b\\ \b\b| \b\b/ \b\b- \b\b\\ \b\b| \b\b/ \b\b- \b\b\\ \b\b| \b\b/ \b\b- \b\b\\ \b\b| \b\b/ \b\b- \b\b\\ \b\b| \b\b/ \b\b- \b\b\\ \b\b| \b\b/ \b\b- \b\b\\ \b\b| \b\b/ \b\b- \b\b\\ \b\b| \b\b/ \b\b- \b\b\\ \b\b| \b\b/ \b\b- \b\b\\ \b\b| \b\b/ \b\b- \b\b\\ \b\b| \b\b/ \b\b- \b\b\\ \b\b| \b\b/ \b\b- \b\bdone\r\n",
      "\r\n",
      "## Package Plan ##\r\n",
      "\r\n",
      "  environment location: /opt/conda\r\n",
      "\r\n",
      "  added / updated specs:\r\n",
      "    - gdown\r\n",
      "\r\n",
      "\r\n",
      "The following packages will be downloaded:\r\n",
      "\r\n",
      "    package                    |            build\r\n",
      "    ---------------------------|-----------------\r\n",
      "    filelock-3.7.1             |     pyhd8ed1ab_0          12 KB  conda-forge\r\n",
      "    gdown-4.4.0                |     pyhd8ed1ab_0          16 KB  conda-forge\r\n",
      "    openssl-1.1.1p             |       h166bdaf_0         2.1 MB  conda-forge\r\n",
      "    ------------------------------------------------------------\r\n",
      "                                           Total:         2.1 MB\r\n",
      "\r\n",
      "The following NEW packages will be INSTALLED:\r\n",
      "\r\n",
      "  filelock           conda-forge/noarch::filelock-3.7.1-pyhd8ed1ab_0\r\n",
      "  gdown              conda-forge/noarch::gdown-4.4.0-pyhd8ed1ab_0\r\n",
      "\r\n",
      "The following packages will be UPDATED:\r\n",
      "\r\n",
      "  openssl                                 1.1.1o-h166bdaf_0 --> 1.1.1p-h166bdaf_0\r\n",
      "\r\n",
      "\r\n",
      "\r\n",
      "Downloading and Extracting Packages\r\n",
      "gdown-4.4.0          | 16 KB     | ##################################### | 100% \r\n",
      "filelock-3.7.1       | 12 KB     | ##################################### | 100% \r\n",
      "openssl-1.1.1p       | 2.1 MB    | ##################################### | 100% \r\n",
      "Preparing transaction: | \b\bdone\r\n",
      "Verifying transaction: - \b\b\\ \b\bdone\r\n",
      "Executing transaction: / \b\b- \b\b\\ \b\b| \b\b/ \b\b- \b\b\\ \b\b| \b\b/ \b\b- \b\b\\ \b\b| \b\b/ \b\b- \b\b\\ \b\b| \b\b/ \b\b- \b\b\\ \b\b| \b\b/ \b\b- \b\b\\ \b\bdone\r\n"
     ]
    }
   ],
   "source": [
    "!conda install -y gdown \n",
    "import gdown \n"
   ]
  },
  {
   "cell_type": "code",
   "execution_count": 2,
   "id": "641eb850",
   "metadata": {
    "execution": {
     "iopub.execute_input": "2022-06-25T13:03:07.477553Z",
     "iopub.status.busy": "2022-06-25T13:03:07.477132Z",
     "iopub.status.idle": "2022-06-25T13:03:10.867717Z",
     "shell.execute_reply": "2022-06-25T13:03:10.866558Z"
    },
    "papermill": {
     "duration": 3.428432,
     "end_time": "2022-06-25T13:03:10.870842",
     "exception": false,
     "start_time": "2022-06-25T13:03:07.442410",
     "status": "completed"
    },
    "tags": []
   },
   "outputs": [
    {
     "name": "stdout",
     "output_type": "stream",
     "text": [
      "/opt/conda/lib/python3.7/site-packages/gdown/cli.py:131: FutureWarning: Option `--id` was deprecated in version 4.3.1 and will be removed in 5.0. You don't need to pass it anymore to use a file ID.\r\n",
      "  category=FutureWarning,\r\n",
      "Access denied with the following error:\r\n",
      "\r\n",
      " \tCannot retrieve the public link of the file. You may need to change\r\n",
      "\tthe permission to 'Anyone with the link', or have had many accesses. \r\n",
      "\r\n",
      "You may still be able to access the file from the browser:\r\n",
      "\r\n",
      "\t https://drive.google.com/uc?id=1f0L0McKkPXYW5DGukCr_1vLXe6JQDaCF \r\n",
      "\r\n"
     ]
    }
   ],
   "source": [
    " !gdown --id 1f0L0McKkPXYW5DGukCr_1vLXe6JQDaCF"
   ]
  },
  {
   "cell_type": "code",
   "execution_count": 3,
   "id": "ab895ad5",
   "metadata": {
    "execution": {
     "iopub.execute_input": "2022-06-25T13:03:10.940446Z",
     "iopub.status.busy": "2022-06-25T13:03:10.939991Z",
     "iopub.status.idle": "2022-06-25T13:03:10.947142Z",
     "shell.execute_reply": "2022-06-25T13:03:10.945561Z"
    },
    "papermill": {
     "duration": 0.044916,
     "end_time": "2022-06-25T13:03:10.949609",
     "exception": false,
     "start_time": "2022-06-25T13:03:10.904693",
     "status": "completed"
    },
    "tags": []
   },
   "outputs": [],
   "source": [
    "id_set1=\"1f0L0McKkPXYW5DGukCr_1vLXe6JQDaCF\"\n",
    "id_set2=\"1aqCY7BhaE9fiIUL3m4Te6OrmipgQf7xo\"\n",
    "id_set3=\"1WDdh1jNDbLfoDy_Co_3piqgklzK6pgZp\"\n",
    "id_set4=\"10al9Z1JB-_aWdMspKrbR7CvF9J0mQ0JC\"\n",
    "id_set5=\"1dxuEav_JJ92FtRGcar_6UEUOFQXwwTJJ\"\n",
    "id_set6=\"1Wvi4FjAsNU0iO1teREhGP_bphS9TO6Yp\"\n",
    "id_set8=\"1NQZ5YB4BPYnuJOIwL2ec4IrM1Cb7_mTj\""
   ]
  },
  {
   "cell_type": "code",
   "execution_count": 4,
   "id": "06b52dfb",
   "metadata": {
    "execution": {
     "iopub.execute_input": "2022-06-25T13:03:11.018293Z",
     "iopub.status.busy": "2022-06-25T13:03:11.017852Z",
     "iopub.status.idle": "2022-06-25T13:03:32.762187Z",
     "shell.execute_reply": "2022-06-25T13:03:32.760976Z"
    },
    "papermill": {
     "duration": 21.782407,
     "end_time": "2022-06-25T13:03:32.764965",
     "exception": false,
     "start_time": "2022-06-25T13:03:10.982558",
     "status": "completed"
    },
    "tags": []
   },
   "outputs": [
    {
     "name": "stdout",
     "output_type": "stream",
     "text": [
      "/opt/conda/lib/python3.7/site-packages/gdown/cli.py:131: FutureWarning: Option `--id` was deprecated in version 4.3.1 and will be removed in 5.0. You don't need to pass it anymore to use a file ID.\r\n",
      "  category=FutureWarning,\r\n",
      "Access denied with the following error:\r\n",
      "\r\n",
      " \tCannot retrieve the public link of the file. You may need to change\r\n",
      "\tthe permission to 'Anyone with the link', or have had many accesses. \r\n",
      "\r\n",
      "You may still be able to access the file from the browser:\r\n",
      "\r\n",
      "\t https://drive.google.com/uc?id=1f0L0McKkPXYW5DGukCr_1vLXe6JQDaCF \r\n",
      "\r\n",
      "/opt/conda/lib/python3.7/site-packages/gdown/cli.py:131: FutureWarning: Option `--id` was deprecated in version 4.3.1 and will be removed in 5.0. You don't need to pass it anymore to use a file ID.\r\n",
      "  category=FutureWarning,\r\n",
      "Access denied with the following error:\r\n",
      "\r\n",
      " \tCannot retrieve the public link of the file. You may need to change\r\n",
      "\tthe permission to 'Anyone with the link', or have had many accesses. \r\n",
      "\r\n",
      "You may still be able to access the file from the browser:\r\n",
      "\r\n",
      "\t https://drive.google.com/uc?id=1aqCY7BhaE9fiIUL3m4Te6OrmipgQf7xo \r\n",
      "\r\n",
      "/opt/conda/lib/python3.7/site-packages/gdown/cli.py:131: FutureWarning: Option `--id` was deprecated in version 4.3.1 and will be removed in 5.0. You don't need to pass it anymore to use a file ID.\r\n",
      "  category=FutureWarning,\r\n",
      "Access denied with the following error:\r\n",
      "\r\n",
      " \tCannot retrieve the public link of the file. You may need to change\r\n",
      "\tthe permission to 'Anyone with the link', or have had many accesses. \r\n",
      "\r\n",
      "You may still be able to access the file from the browser:\r\n",
      "\r\n",
      "\t https://drive.google.com/uc?id=1WDdh1jNDbLfoDy_Co_3piqgklzK6pgZp \r\n",
      "\r\n",
      "/opt/conda/lib/python3.7/site-packages/gdown/cli.py:131: FutureWarning: Option `--id` was deprecated in version 4.3.1 and will be removed in 5.0. You don't need to pass it anymore to use a file ID.\r\n",
      "  category=FutureWarning,\r\n",
      "Access denied with the following error:\r\n",
      "\r\n",
      " \tCannot retrieve the public link of the file. You may need to change\r\n",
      "\tthe permission to 'Anyone with the link', or have had many accesses. \r\n",
      "\r\n",
      "You may still be able to access the file from the browser:\r\n",
      "\r\n",
      "\t https://drive.google.com/uc?id=10al9Z1JB-_aWdMspKrbR7CvF9J0mQ0JC \r\n",
      "\r\n",
      "/opt/conda/lib/python3.7/site-packages/gdown/cli.py:131: FutureWarning: Option `--id` was deprecated in version 4.3.1 and will be removed in 5.0. You don't need to pass it anymore to use a file ID.\r\n",
      "  category=FutureWarning,\r\n",
      "Access denied with the following error:\r\n",
      "\r\n",
      " \tCannot retrieve the public link of the file. You may need to change\r\n",
      "\tthe permission to 'Anyone with the link', or have had many accesses. \r\n",
      "\r\n",
      "You may still be able to access the file from the browser:\r\n",
      "\r\n",
      "\t https://drive.google.com/uc?id=1dxuEav_JJ92FtRGcar_6UEUOFQXwwTJJ \r\n",
      "\r\n",
      "/opt/conda/lib/python3.7/site-packages/gdown/cli.py:131: FutureWarning: Option `--id` was deprecated in version 4.3.1 and will be removed in 5.0. You don't need to pass it anymore to use a file ID.\r\n",
      "  category=FutureWarning,\r\n",
      "Access denied with the following error:\r\n",
      "\r\n",
      " \tToo many users have viewed or downloaded this file recently. Please\r\n",
      "\ttry accessing the file again later. If the file you are trying to\r\n",
      "\taccess is particularly large or is shared with many people, it may\r\n",
      "\ttake up to 24 hours to be able to view or download the file. If you\r\n",
      "\tstill can't access a file after 24 hours, contact your domain\r\n",
      "\tadministrator. \r\n",
      "\r\n",
      "You may still be able to access the file from the browser:\r\n",
      "\r\n",
      "\t https://drive.google.com/uc?id=1Wvi4FjAsNU0iO1teREhGP_bphS9TO6Yp \r\n",
      "\r\n",
      "/opt/conda/lib/python3.7/site-packages/gdown/cli.py:131: FutureWarning: Option `--id` was deprecated in version 4.3.1 and will be removed in 5.0. You don't need to pass it anymore to use a file ID.\r\n",
      "  category=FutureWarning,\r\n",
      "Access denied with the following error:\r\n",
      "\r\n",
      " \tCannot retrieve the public link of the file. You may need to change\r\n",
      "\tthe permission to 'Anyone with the link', or have had many accesses. \r\n",
      "\r\n",
      "You may still be able to access the file from the browser:\r\n",
      "\r\n",
      "\t https://drive.google.com/uc?id=1NQZ5YB4BPYnuJOIwL2ec4IrM1Cb7_mTj \r\n",
      "\r\n"
     ]
    }
   ],
   "source": [
    "sets=[id_set1,id_set2,id_set3,id_set4,id_set5,id_set6,id_set8]\n",
    "for id in sets:\n",
    "    !gdown --id {id}"
   ]
  },
  {
   "cell_type": "code",
   "execution_count": 5,
   "id": "d2fbe752",
   "metadata": {
    "execution": {
     "iopub.execute_input": "2022-06-25T13:03:32.836435Z",
     "iopub.status.busy": "2022-06-25T13:03:32.835991Z",
     "iopub.status.idle": "2022-06-25T13:03:34.345314Z",
     "shell.execute_reply": "2022-06-25T13:03:34.343820Z"
    },
    "papermill": {
     "duration": 1.548879,
     "end_time": "2022-06-25T13:03:34.348421",
     "exception": false,
     "start_time": "2022-06-25T13:03:32.799542",
     "status": "completed"
    },
    "tags": []
   },
   "outputs": [
    {
     "name": "stdout",
     "output_type": "stream",
     "text": [
      "__notebook__.ipynb  dataset\r\n"
     ]
    }
   ],
   "source": [
    "!mkdir dataset\n",
    "!ls"
   ]
  },
  {
   "cell_type": "code",
   "execution_count": 6,
   "id": "e55e8772",
   "metadata": {
    "execution": {
     "iopub.execute_input": "2022-06-25T13:03:34.420853Z",
     "iopub.status.busy": "2022-06-25T13:03:34.420111Z",
     "iopub.status.idle": "2022-06-25T13:03:34.428793Z",
     "shell.execute_reply": "2022-06-25T13:03:34.427445Z"
    },
    "papermill": {
     "duration": 0.047857,
     "end_time": "2022-06-25T13:03:34.431745",
     "exception": false,
     "start_time": "2022-06-25T13:03:34.383888",
     "status": "completed"
    },
    "tags": []
   },
   "outputs": [],
   "source": [
    "def unzip_files(all_sets,path,is_also_remove=False):\n",
    "    for current_set in all_sets:\n",
    "        !unzip -n {current_set} -d {path}\n",
    "        if is_also_remove:\n",
    "            !rm {current_set}"
   ]
  },
  {
   "cell_type": "code",
   "execution_count": 7,
   "id": "d974436e",
   "metadata": {
    "execution": {
     "iopub.execute_input": "2022-06-25T13:03:34.502793Z",
     "iopub.status.busy": "2022-06-25T13:03:34.501633Z",
     "iopub.status.idle": "2022-06-25T13:03:43.437248Z",
     "shell.execute_reply": "2022-06-25T13:03:43.435966Z"
    },
    "papermill": {
     "duration": 8.974168,
     "end_time": "2022-06-25T13:03:43.440179",
     "exception": false,
     "start_time": "2022-06-25T13:03:34.466011",
     "status": "completed"
    },
    "tags": []
   },
   "outputs": [
    {
     "name": "stdout",
     "output_type": "stream",
     "text": [
      "unzip:  cannot find or open set1.zip, set1.zip.zip or set1.zip.ZIP.\r\n",
      "rm: cannot remove 'set1.zip': No such file or directory\r\n",
      "unzip:  cannot find or open set2.zip, set2.zip.zip or set2.zip.ZIP.\r\n",
      "rm: cannot remove 'set2.zip': No such file or directory\r\n",
      "unzip:  cannot find or open set3.zip, set3.zip.zip or set3.zip.ZIP.\r\n",
      "rm: cannot remove 'set3.zip': No such file or directory\r\n",
      "unzip:  cannot find or open set4.zip, set4.zip.zip or set4.zip.ZIP.\r\n",
      "rm: cannot remove 'set4.zip': No such file or directory\r\n",
      "unzip:  cannot find or open set5.zip, set5.zip.zip or set5.zip.ZIP.\r\n",
      "rm: cannot remove 'set5.zip': No such file or directory\r\n",
      "unzip:  cannot find or open set6.zip, set6.zip.zip or set6.zip.ZIP.\r\n",
      "rm: cannot remove 'set6.zip': No such file or directory\r\n"
     ]
    }
   ],
   "source": [
    "\n",
    "    \n",
    "all_train_sets_name=[\"set1.zip\",\"set2.zip\",\"set3.zip\",\"set4.zip\",\"set5.zip\",\"set6.zip\"]\n",
    "unzip_files(all_train_sets_name,\"./dataset/train\",True)\n"
   ]
  },
  {
   "cell_type": "code",
   "execution_count": 8,
   "id": "1d63212a",
   "metadata": {
    "execution": {
     "iopub.execute_input": "2022-06-25T13:03:43.513582Z",
     "iopub.status.busy": "2022-06-25T13:03:43.513153Z",
     "iopub.status.idle": "2022-06-25T13:03:44.261336Z",
     "shell.execute_reply": "2022-06-25T13:03:44.259839Z"
    },
    "papermill": {
     "duration": 0.788573,
     "end_time": "2022-06-25T13:03:44.264283",
     "exception": false,
     "start_time": "2022-06-25T13:03:43.475710",
     "status": "completed"
    },
    "tags": []
   },
   "outputs": [
    {
     "name": "stdout",
     "output_type": "stream",
     "text": [
      "unzip:  cannot find or open set8.zip, set8.zip.zip or set8.zip.ZIP.\r\n"
     ]
    }
   ],
   "source": [
    "all_val_sets_name=[\"set8.zip\"]\n",
    "unzip_files(all_val_sets_name,\"./dataset/val\",False)"
   ]
  },
  {
   "cell_type": "code",
   "execution_count": 9,
   "id": "cd1a145b",
   "metadata": {
    "execution": {
     "iopub.execute_input": "2022-06-25T13:03:44.338404Z",
     "iopub.status.busy": "2022-06-25T13:03:44.337965Z",
     "iopub.status.idle": "2022-06-25T13:03:45.833233Z",
     "shell.execute_reply": "2022-06-25T13:03:45.831689Z"
    },
    "papermill": {
     "duration": 1.536278,
     "end_time": "2022-06-25T13:03:45.836377",
     "exception": false,
     "start_time": "2022-06-25T13:03:44.300099",
     "status": "completed"
    },
    "tags": []
   },
   "outputs": [
    {
     "name": "stdout",
     "output_type": "stream",
     "text": [
      "ls: cannot access './dataset/train/images': No such file or directory\r\n",
      "0\r\n",
      "ls: cannot access './dataset/train/labels': No such file or directory\r\n",
      "0\r\n"
     ]
    }
   ],
   "source": [
    "!ls ./dataset/train/images | wc -l\n",
    "!ls ./dataset/train/labels | wc -l"
   ]
  },
  {
   "cell_type": "code",
   "execution_count": null,
   "id": "0f9bb0a6",
   "metadata": {
    "papermill": {
     "duration": 0.035682,
     "end_time": "2022-06-25T13:03:45.909179",
     "exception": false,
     "start_time": "2022-06-25T13:03:45.873497",
     "status": "completed"
    },
    "tags": []
   },
   "outputs": [],
   "source": []
  },
  {
   "cell_type": "code",
   "execution_count": 10,
   "id": "26497e4e",
   "metadata": {
    "execution": {
     "iopub.execute_input": "2022-06-25T13:03:45.982297Z",
     "iopub.status.busy": "2022-06-25T13:03:45.981859Z",
     "iopub.status.idle": "2022-06-25T13:03:47.484521Z",
     "shell.execute_reply": "2022-06-25T13:03:47.483251Z"
    },
    "papermill": {
     "duration": 1.542591,
     "end_time": "2022-06-25T13:03:47.487425",
     "exception": false,
     "start_time": "2022-06-25T13:03:45.944834",
     "status": "completed"
    },
    "tags": []
   },
   "outputs": [
    {
     "name": "stdout",
     "output_type": "stream",
     "text": [
      "unzip:  cannot find or open set1.zip, set1.zip.zip or set1.zip.ZIP.\r\n",
      "rm: cannot remove 'set1.zip': No such file or directory\r\n"
     ]
    }
   ],
   "source": [
    "current_set=\"set1.zip\"\n",
    "!unzip -n {current_set} -d ./dataset/train/\n",
    "!rm {current_set}"
   ]
  },
  {
   "cell_type": "code",
   "execution_count": 11,
   "id": "90c83d50",
   "metadata": {
    "execution": {
     "iopub.execute_input": "2022-06-25T13:03:47.560876Z",
     "iopub.status.busy": "2022-06-25T13:03:47.560063Z",
     "iopub.status.idle": "2022-06-25T13:03:48.314198Z",
     "shell.execute_reply": "2022-06-25T13:03:48.312554Z"
    },
    "papermill": {
     "duration": 0.794323,
     "end_time": "2022-06-25T13:03:48.317235",
     "exception": false,
     "start_time": "2022-06-25T13:03:47.522912",
     "status": "completed"
    },
    "tags": []
   },
   "outputs": [
    {
     "name": "stdout",
     "output_type": "stream",
     "text": [
      "ls: cannot access './dataset/val': No such file or directory\r\n"
     ]
    }
   ],
   "source": [
    "!ls ./dataset/val"
   ]
  },
  {
   "cell_type": "code",
   "execution_count": null,
   "id": "a72eb1fa",
   "metadata": {
    "execution": {
     "iopub.execute_input": "2022-06-25T12:50:44.685814Z",
     "iopub.status.busy": "2022-06-25T12:50:44.685347Z",
     "iopub.status.idle": "2022-06-25T12:50:45.577484Z",
     "shell.execute_reply": "2022-06-25T12:50:45.576230Z",
     "shell.execute_reply.started": "2022-06-25T12:50:44.685772Z"
    },
    "papermill": {
     "duration": 0.035736,
     "end_time": "2022-06-25T13:03:48.390505",
     "exception": false,
     "start_time": "2022-06-25T13:03:48.354769",
     "status": "completed"
    },
    "tags": []
   },
   "outputs": [],
   "source": []
  },
  {
   "cell_type": "code",
   "execution_count": 12,
   "id": "a40890af",
   "metadata": {
    "execution": {
     "iopub.execute_input": "2022-06-25T13:03:48.463714Z",
     "iopub.status.busy": "2022-06-25T13:03:48.462964Z",
     "iopub.status.idle": "2022-06-25T13:03:49.223396Z",
     "shell.execute_reply": "2022-06-25T13:03:49.221164Z"
    },
    "papermill": {
     "duration": 0.800883,
     "end_time": "2022-06-25T13:03:49.226587",
     "exception": false,
     "start_time": "2022-06-25T13:03:48.425704",
     "status": "completed"
    },
    "tags": []
   },
   "outputs": [],
   "source": [
    "!rm -rf dataset"
   ]
  },
  {
   "cell_type": "code",
   "execution_count": null,
   "id": "23cd7146",
   "metadata": {
    "execution": {
     "iopub.execute_input": "2022-06-25T12:35:19.491284Z",
     "iopub.status.busy": "2022-06-25T12:35:19.490782Z",
     "iopub.status.idle": "2022-06-25T12:35:19.499677Z",
     "shell.execute_reply": "2022-06-25T12:35:19.498158Z",
     "shell.execute_reply.started": "2022-06-25T12:35:19.491235Z"
    },
    "papermill": {
     "duration": 0.037154,
     "end_time": "2022-06-25T13:03:49.301706",
     "exception": false,
     "start_time": "2022-06-25T13:03:49.264552",
     "status": "completed"
    },
    "tags": []
   },
   "outputs": [],
   "source": []
  },
  {
   "cell_type": "code",
   "execution_count": null,
   "id": "2cc5ce0c",
   "metadata": {
    "papermill": {
     "duration": 0.034933,
     "end_time": "2022-06-25T13:03:49.372110",
     "exception": false,
     "start_time": "2022-06-25T13:03:49.337177",
     "status": "completed"
    },
    "tags": []
   },
   "outputs": [],
   "source": []
  },
  {
   "cell_type": "code",
   "execution_count": null,
   "id": "0091ad05",
   "metadata": {
    "papermill": {
     "duration": 0.03592,
     "end_time": "2022-06-25T13:03:49.444152",
     "exception": false,
     "start_time": "2022-06-25T13:03:49.408232",
     "status": "completed"
    },
    "tags": []
   },
   "outputs": [],
   "source": []
  }
 ],
 "metadata": {
  "kernelspec": {
   "display_name": "Python 3",
   "language": "python",
   "name": "python3"
  },
  "language_info": {
   "codemirror_mode": {
    "name": "ipython",
    "version": 3
   },
   "file_extension": ".py",
   "mimetype": "text/x-python",
   "name": "python",
   "nbconvert_exporter": "python",
   "pygments_lexer": "ipython3",
   "version": "3.7.12"
  },
  "papermill": {
   "default_parameters": {},
   "duration": 132.307702,
   "end_time": "2022-06-25T13:03:50.404280",
   "environment_variables": {},
   "exception": null,
   "input_path": "__notebook__.ipynb",
   "output_path": "__notebook__.ipynb",
   "parameters": {},
   "start_time": "2022-06-25T13:01:38.096578",
   "version": "2.3.4"
  }
 },
 "nbformat": 4,
 "nbformat_minor": 5
}
